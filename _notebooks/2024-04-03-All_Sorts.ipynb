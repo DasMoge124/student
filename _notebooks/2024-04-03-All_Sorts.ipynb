{
 "cells": [
  {
   "cell_type": "markdown",
   "metadata": {},
   "source": [
    "---\n",
    "toc: true \n",
    "comments: true \n",
    "layout: post \n",
    "title: All Sorts/Algorithmic Code Prep\n",
    "type: hacks \n",
    "courses: { csse: {week: 1}, csp: {week: 1, categories: [4.A]}, csa: {week: 0}, labnotebook: {week: 3} } \n",
    "---"
   ]
  },
  {
   "cell_type": "markdown",
   "metadata": {},
   "source": [
    "# All of the sorts:\n",
    "\n",
    "### Bubble Sort:\n",
    "- repeatedly steps through the list, compares adjacent elements, and swaps them if they are in the wrong order"
   ]
  },
  {
   "cell_type": "code",
   "execution_count": 4,
   "metadata": {
    "vscode": {
     "languageId": "java"
    }
   },
   "outputs": [
    {
     "name": "stdout",
     "output_type": "stream",
     "text": [
      "Current Array: 34 64 25 12 22 11 90 \n",
      "Current Array: 34 25 64 12 22 11 90 \n",
      "Current Array: 34 25 12 64 22 11 90 \n",
      "Current Array: 34 25 12 22 64 11 90 \n",
      "Current Array: 34 25 12 22 11 64 90 \n",
      "Current Array: 25 34 12 22 11 64 90 \n",
      "Current Array: 25 12 34 22 11 64 90 \n",
      "Current Array: 25 12 22 34 11 64 90 \n",
      "Current Array: 25 12 22 11 34 64 90 \n",
      "Current Array: 12 25 22 11 34 64 90 \n",
      "Current Array: 12 22 25 11 34 64 90 \n",
      "Current Array: 12 22 11 25 34 64 90 \n",
      "Current Array: 12 11 22 25 34 64 90 \n",
      "Current Array: 11 12 22 25 34 64 90 \n",
      "Sorted array:\n",
      "11 12 22 25 34 64 90 "
     ]
    }
   ],
   "source": [
    "public class BubbleSort {\n",
    "    public static void bubbleSort(int[] array) {\n",
    "        int n = array.length;\n",
    "        for (int i = 0; i < n - 1; i++) { //Ensures it makes all consecutive swaps for the necessary amount of times\n",
    "            for (int j = 0; j < n - i - 1; j++) {\n",
    "                if (array[j] > array[j + 1]) {\n",
    "                    // swap array[j+1] and array[j]\n",
    "                    int temp = array[j];\n",
    "                    array[j] = array[j + 1];\n",
    "                    array[j + 1] = temp;\n",
    "                    System.out.print(\"Current Array: \");\n",
    "                    for (int k : array) {\n",
    "                        System.out.print(k + \" \");\n",
    "                    }\n",
    "                    System.out.println();\n",
    "                }\n",
    "            }\n",
    "        }\n",
    "    }\n",
    "\n",
    "    public static void main(String[] args) {\n",
    "        int[] arr = {64, 34, 25, 12, 22, 11, 90};\n",
    "        bubbleSort(arr);\n",
    "        System.out.println(\"Sorted array:\");\n",
    "        for (int el : arr) {\n",
    "            System.out.print(el + \" \");\n",
    "        }\n",
    "    }\n",
    "}\n",
    "BubbleSort.main(null);\n"
   ]
  },
  {
   "cell_type": "markdown",
   "metadata": {},
   "source": [
    "### Selection Sort\n",
    "- repeatedly finding the minimum element from the unsorted part of the array and putting it at the beginning."
   ]
  },
  {
   "cell_type": "code",
   "execution_count": 7,
   "metadata": {
    "vscode": {
     "languageId": "java"
    }
   },
   "outputs": [
    {
     "name": "stdout",
     "output_type": "stream",
     "text": [
      "Current Array: 64 25 12 22 11 \n",
      "Current Array: 64 25 12 22 11 \n",
      "Current Array: 64 25 12 22 11 \n",
      "Current Array: 11 25 12 22 64 \n",
      "Current Array: 11 12 25 22 64 \n",
      "Sorted array:\n",
      "11 12 22 25 64 "
     ]
    }
   ],
   "source": [
    "public class SelectionSort {\n",
    "    public static void selectionSort(int[] arr) {\n",
    "        int n = arr.length;\n",
    "        for (int i = 0; i < n - 1; i++) {\n",
    "            int minIndex = i;\n",
    "            for (int j = i + 1; j < n; j++) {\n",
    "                if (arr[j] < arr[minIndex]) {\n",
    "                    minIndex = j;\n",
    "                    System.out.print(\"Current Array: \");\n",
    "                    for (int k : arr) {\n",
    "                        System.out.print(k + \" \");\n",
    "                    }\n",
    "                    System.out.println();\n",
    "                }\n",
    "            }\n",
    "            int temp = arr[minIndex];\n",
    "            arr[minIndex] = arr[i];\n",
    "            arr[i] = temp;\n",
    "        }\n",
    "    }\n",
    "\n",
    "    public static void main(String[] args) {\n",
    "        int[] arr = {64, 25, 12, 22, 11};\n",
    "        selectionSort(arr);\n",
    "        System.out.println(\"Sorted array:\");\n",
    "        for (int i : arr) {\n",
    "            System.out.print(i + \" \");\n",
    "        }\n",
    "    }\n",
    "}\n",
    "SelectionSort.main(null);"
   ]
  },
  {
   "cell_type": "markdown",
   "metadata": {},
   "source": [
    "### Insertion Sort"
   ]
  },
  {
   "cell_type": "code",
   "execution_count": 8,
   "metadata": {
    "vscode": {
     "languageId": "java"
    }
   },
   "outputs": [
    {
     "name": "stdout",
     "output_type": "stream",
     "text": [
      "Current Array: 25 64 12 22 11 \n",
      "Current Array: 12 25 64 22 11 \n",
      "Current Array: 12 22 25 64 11 \n",
      "Current Array: 11 12 22 25 64 \n",
      "Sorted array:\n",
      "11 12 22 25 64 "
     ]
    }
   ],
   "source": [
    "public class InsertionSort {\n",
    "    public static void insertionSort(int[] arr) {\n",
    "        int n = arr.length;\n",
    "        for (int i = 1; i < n; i++) {\n",
    "            int key = arr[i];\n",
    "            int j = i - 1;\n",
    "            while (j >= 0 && arr[j] > key) {\n",
    "                arr[j + 1] = arr[j];\n",
    "                j--;\n",
    "            }\n",
    "            arr[j + 1] = key;\n",
    "            System.out.print(\"Current Array: \");\n",
    "            for (int k : arr) {\n",
    "                System.out.print(k + \" \");\n",
    "            }\n",
    "            System.out.println();\n",
    "        }\n",
    "    }\n",
    "\n",
    "    public static void main(String[] args) {\n",
    "        int[] arr = {64, 25, 12, 22, 11};\n",
    "        insertionSort(arr);\n",
    "        System.out.println(\"Sorted array:\");\n",
    "        for (int i : arr) {\n",
    "            System.out.print(i + \" \");\n",
    "        }\n",
    "    }\n",
    "}\n",
    "InsertionSort.main(null);"
   ]
  },
  {
   "cell_type": "markdown",
   "metadata": {},
   "source": [
    "### Merge Sort"
   ]
  },
  {
   "cell_type": "markdown",
   "metadata": {},
   "source": [
    "Merge sort is a divide and conquer algorithm that divides the input array into two halves, sorts the two halves independently, and then merges the sorted halves."
   ]
  },
  {
   "cell_type": "code",
   "execution_count": 9,
   "metadata": {
    "vscode": {
     "languageId": "java"
    }
   },
   "outputs": [
    {
     "name": "stdout",
     "output_type": "stream",
     "text": [
      "Current Array: 11 12 13 5 6 7 \n",
      "Current Array: 11 12 13 5 6 7 \n",
      "Current Array: 11 12 13 5 6 7 \n",
      "Current Array: 11 12 13 5 6 7 \n",
      "Current Array: 5 6 7 11 12 13 \n",
      "Sorted array:\n",
      "5 6 7 11 12 13 "
     ]
    }
   ],
   "source": [
    "public class MergeSort {\n",
    "    public static void merge(int arr[], int l, int m, int r) {\n",
    "        int n1 = m - l + 1;\n",
    "        int n2 = r - m;\n",
    "        int L[] = new int[n1];\n",
    "        int R[] = new int[n2];\n",
    "        for (int i = 0; i < n1; ++i)\n",
    "            L[i] = arr[l + i];\n",
    "        for (int j = 0; j < n2; ++j)\n",
    "            R[j] = arr[m + 1 + j];\n",
    "        int i = 0, j = 0;\n",
    "        int k = l;\n",
    "        while (i < n1 && j < n2) {\n",
    "            if (L[i] <= R[j]) {\n",
    "                arr[k] = L[i];\n",
    "                i++;\n",
    "            } else {\n",
    "                arr[k] = R[j];\n",
    "                j++;\n",
    "            }\n",
    "            k++;\n",
    "        }\n",
    "        while (i < n1) {\n",
    "            arr[k] = L[i];\n",
    "            i++;\n",
    "            k++;\n",
    "        }\n",
    "        while (j < n2) {\n",
    "            arr[k] = R[j];\n",
    "            j++;\n",
    "            k++;\n",
    "        }\n",
    "    }\n",
    "    public static void mergeSort(int arr[], int l, int r) {\n",
    "        if (l < r) {\n",
    "            int m = l + (r - l) / 2;\n",
    "            mergeSort(arr, l, m);\n",
    "            mergeSort(arr, m + 1, r);\n",
    "            merge(arr, l, m, r);\n",
    "            System.out.print(\"Current Array: \");\n",
    "            for (int i : arr) {\n",
    "                System.out.print(i + \" \");\n",
    "            }\n",
    "            System.out.println();\n",
    "        }\n",
    "    }\n",
    "\n",
    "    public static void main(String[] args) {\n",
    "        int[] arr = {12, 11, 13, 5, 6, 7};\n",
    "        mergeSort(arr, 0, arr.length - 1);\n",
    "        System.out.println(\"Sorted array:\");\n",
    "        for (int i : arr) {\n",
    "            System.out.print(i + \" \");\n",
    "        }\n",
    "    }\n",
    "}\n",
    "MergeSort.main(null);"
   ]
  },
  {
   "cell_type": "markdown",
   "metadata": {
    "vscode": {
     "languageId": "java"
    }
   },
   "source": [
    "## Quicksort\n",
    "Quicksort is based on: based on the divide-and-conquer strategy. It works by selecting a 'pivot' element from the array and partitioning the other elements into two sub-arrays according to whether they are less than or greater than the pivot. The sub-arrays are then sorted recursively."
   ]
  },
  {
   "cell_type": "code",
   "execution_count": 13,
   "metadata": {
    "vscode": {
     "languageId": "java"
    }
   },
   "outputs": [
    {
     "name": "stdout",
     "output_type": "stream",
     "text": [
      "Current Array: 1 4 5 11 15 21 8 9 10 7 23 23 34 100 54 1234 \n",
      "Current Array: 1 4 5 7 8 9 10 11 15 21 23 23 34 100 54 1234 \n",
      "Current Array: 1 4 5 7 8 9 10 11 15 21 23 23 34 100 54 1234 \n",
      "Current Array: 1 4 5 7 8 9 10 11 15 21 23 23 34 100 54 1234 \n",
      "Current Array: 1 4 5 7 8 9 10 11 15 21 23 23 34 100 54 1234 \n",
      "Current Array: 1 4 5 7 8 9 10 11 15 21 23 23 34 100 54 1234 \n",
      "Current Array: 1 4 5 7 8 9 10 11 15 21 23 23 34 100 54 1234 \n",
      "Current Array: 1 4 5 7 8 9 10 11 15 21 23 23 34 54 100 1234 \n",
      "Current Array: 1 4 5 7 8 9 10 11 15 21 23 23 34 54 100 1234 \n",
      "Current Array: 1 4 5 7 8 9 10 11 15 21 23 23 34 54 100 1234 \n",
      "Current Array: 1 4 5 7 8 9 10 11 15 21 23 23 34 54 100 1234 \n",
      "Sorted array:\n",
      "1 4 5 7 8 9 10 11 15 21 23 23 34 54 100 1234 "
     ]
    }
   ],
   "source": [
    "public class QuickSort {\n",
    "    public static void quickSort(int arr[], int low, int high) {\n",
    "        if (low < high) {\n",
    "            int pi = partition(arr, low, high);\n",
    "            quickSort(arr, low, pi - 1);\n",
    "            quickSort(arr, pi + 1, high);\n",
    "            System.out.print(\"Current Array: \");\n",
    "            for (int i : arr) {\n",
    "                System.out.print(i + \" \");\n",
    "            }\n",
    "            System.out.println();\n",
    "        }\n",
    "    }\n",
    "\n",
    "    public static int partition(int arr[], int low, int high) {\n",
    "        int pivot = arr[high];\n",
    "        int i = (low - 1);\n",
    "        for (int j = low; j < high; j++) {\n",
    "            if (arr[j] < pivot) {\n",
    "                i++;\n",
    "                int temp = arr[i];\n",
    "                arr[i] = arr[j];\n",
    "                arr[j] = temp;\n",
    "            }\n",
    "        }\n",
    "        int temp = arr[i + 1];\n",
    "        arr[i + 1] = arr[high];\n",
    "        arr[high] = temp;\n",
    "        return i + 1;\n",
    "    }\n",
    "\n",
    "    public static void main(String[] args) {\n",
    "        int[] arr = {10, 4, 7,11,15,23,34,54,21, 8, 9, 1, 5,100,23,1234};\n",
    "        int n = arr.length;\n",
    "        quickSort(arr, 0, n - 1);\n",
    "        System.out.println(\"Sorted array:\");\n",
    "        for (int i : arr) {\n",
    "            System.out.print(i + \" \");\n",
    "        }\n",
    "    }\n",
    "}\n",
    "QuickSort.main(null);"
   ]
  },
  {
   "cell_type": "markdown",
   "metadata": {},
   "source": [
    "## My own sorting program"
   ]
  },
  {
   "cell_type": "code",
   "execution_count": 14,
   "metadata": {
    "vscode": {
     "languageId": "java"
    }
   },
   "outputs": [
    {
     "name": "stdout",
     "output_type": "stream",
     "text": [
      "Choose a sorting algorithm:\n",
      "1. Bubble Sort\n",
      "2. Selection Sort\n",
      "3. Insertion Sort\n",
      "4. Merge Sort\n",
      "5. Quick Sort\n",
      "Enter the number corresponding to the sorting algorithm: Your input: \n",
      "2\n",
      "Current Array: 64 25 12 22 11 \n",
      "Current Array: 64 25 12 22 11 \n",
      "Current Array: 64 25 12 22 11 \n",
      "Current Array: 11 25 12 22 64 \n",
      "Current Array: 11 12 25 22 64 \n",
      "Sorted array:\n",
      "11 12 22 25 64 "
     ]
    }
   ],
   "source": [
    "import java.util.Scanner;\n",
    "\n",
    "public class SortingProgram {\n",
    "    public static void main(String[] args) {\n",
    "        Scanner scanner = new Scanner(System.in);\n",
    "        System.out.println(\"Choose a sorting algorithm:\");\n",
    "        System.out.println(\"1. Bubble Sort\");\n",
    "        System.out.println(\"2. Selection Sort\");\n",
    "        System.out.println(\"3. Insertion Sort\");\n",
    "        System.out.println(\"4. Merge Sort\");\n",
    "        System.out.println(\"5. Quick Sort\");\n",
    "        System.out.print(\"Enter the number corresponding to the sorting algorithm: \");\n",
    "\n",
    "        int choice = scanner.nextInt();\n",
    "        int[] arr = {64, 25, 12, 22, 11}; // Sample array for demonstration\n",
    "\n",
    "        switch (choice) {\n",
    "            case 1:\n",
    "                System.out.println(\"Your input: \");\n",
    "                System.out.println(choice);\n",
    "                BubbleSort.bubbleSort(arr);\n",
    "                break;\n",
    "            case 2:\n",
    "                System.out.println(\"Your input: \");\n",
    "                System.out.println(choice);\n",
    "                SelectionSort.selectionSort(arr);\n",
    "                break;\n",
    "            case 3:\n",
    "                System.out.println(\"Your input: \");\n",
    "                System.out.println(choice);\n",
    "                InsertionSort.insertionSort(arr);\n",
    "                break;\n",
    "            case 4:\n",
    "                System.out.println(\"Your input: \");\n",
    "                System.out.println(choice);\n",
    "                MergeSort.mergeSort(arr, 0, arr.length - 1);\n",
    "                break;\n",
    "            case 5:\n",
    "                System.out.println(\"Your input: \");\n",
    "                System.out.println(choice);\n",
    "                QuickSort.quickSort(arr, 0, arr.length - 1);\n",
    "                break;\n",
    "            default:\n",
    "                System.out.println(\"Invalid choice!\");\n",
    "        }\n",
    "\n",
    "        System.out.println(\"Sorted array:\");\n",
    "        for (int i : arr) {\n",
    "            System.out.print(i + \" \");\n",
    "        }\n",
    "    }\n",
    "}\n",
    "\n",
    "SortingProgram.main(null);"
   ]
  },
  {
   "cell_type": "markdown",
   "metadata": {},
   "source": []
  }
 ],
 "metadata": {
  "kernelspec": {
   "display_name": "Java",
   "language": "java",
   "name": "java"
  },
  "language_info": {
   "codemirror_mode": "java",
   "file_extension": ".jshell",
   "mimetype": "text/x-java-source",
   "name": "Java",
   "pygments_lexer": "java",
   "version": "17.0.10+7-Ubuntu-122.04.1"
  }
 },
 "nbformat": 4,
 "nbformat_minor": 2
}
