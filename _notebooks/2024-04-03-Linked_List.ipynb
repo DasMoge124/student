{
 "cells": [
  {
   "cell_type": "markdown",
   "metadata": {},
   "source": [
    "---\n",
    "toc: true \n",
    "comments: true \n",
    "layout: post \n",
    "title: Linked List\n",
    "type: hacks \n",
    "courses: { csse: {week: 1}, csp: {week: 1, categories: [4.A]}, csa: {week: 0}, labnotebook: {week: 3} } \n",
    "---"
   ]
  },
  {
   "cell_type": "markdown",
   "metadata": {},
   "source": [
    "## My Linked List. Used Star wars Collectables"
   ]
  },
  {
   "cell_type": "code",
   "execution_count": 4,
   "metadata": {
    "vscode": {
     "languageId": "java"
    }
   },
   "outputs": [
    {
     "name": "stdout",
     "output_type": "stream",
     "text": [
      "Original list: [5, 3, 8, 1]\n",
      "Sorted list: [1, 3, 5, 8]\n",
      "JSON representation: {\"1\", \"3\", \"5\", \"8\"}\n"
     ]
    }
   ],
   "source": [
    "// defining a LinkedList class that can hold elements (T)\n",
    "// ChatGPT: \"T can be any data type that extends Comparable\"\n",
    "public class LinkedList<T extends Comparable<T>> {\n",
    "    // Node class represents individual list elements\n",
    "    private static class Node<T> {\n",
    "        T data; // the element's actual data\n",
    "        Node<T> next; // referencing (linking to ;D) to the next node in the list\n",
    "\n",
    "        // constructor to create a node with given data\n",
    "        Node(T data) {\n",
    "            this.data = data;\n",
    "            this.next = null; // no next node exists initially\n",
    "        }\n",
    "    }\n",
    "\n",
    "    private Node<T> head; // references the first node in the list\n",
    "    private int size; // represents the size/length of the list\n",
    "\n",
    "    // constructor to initialize the LinkedList\n",
    "    public LinkedList() {\n",
    "        head = null; // it's empty at first, so there's NOTHING\n",
    "        size = 0; // the size starts out as 0, as there is NOTHING\n",
    "    }\n",
    "\n",
    "    // like .add() for ArrayList, this adds an element to the end of the list\n",
    "    public void add(T element) {\n",
    "        if (head == null) {\n",
    "            head = new Node<>(element); // if the list is empty, this creates the first node\n",
    "            // when I gave my concept, chatGPT said to add this condition here, credit <-\n",
    "        } else {\n",
    "            Node<T> current = head;\n",
    "            while (current.next != null) {\n",
    "                current = current.next; // using a while loop to approach the last node\n",
    "            }\n",
    "            current.next = new Node<>(element); // adding the new node at the end\n",
    "        }\n",
    "        size++; // increasing size of the list\n",
    "    }\n",
    "\n",
    "    // HERE'S MY CUSTOM SELECTION SORT\n",
    "    public void selectionSort() {\n",
    "        if (head == null || head.next == null) {\n",
    "            return; // if the list is empty or has only one element, it's already sorted\n",
    "            // again, this is an inclusion courtesy of ChatGPT and its incredible forethought\n",
    "        }\n",
    "        Node<T> current = head;\n",
    "        while (current != null) {\n",
    "            Node<T> min = current;\n",
    "            Node<T> temp = current.next;\n",
    "            while (temp != null) {\n",
    "                if (temp.data.compareTo(min.data) < 0) {\n",
    "                    min = temp; // finding the minimum element\n",
    "                }\n",
    "                temp = temp.next;\n",
    "            }\n",
    "            T tmpData = current.data; // swapping the current unsorted place with the minimum\n",
    "            current.data = min.data;\n",
    "            min.data = tmpData;\n",
    "            current = current.next; // moving to the next element\n",
    "        }\n",
    "    }\n",
    "\n",
    "    // this method overrides toString\n",
    "    // it's used for printing the list\n",
    "    // this was my reference: https://stackoverflow.com/questions/42676579/tostring-method-for-a-linkedlist\n",
    "    // i shouldn't have needed a reference, but I wanted to make sure there wasn't anything special to do\n",
    "    @Override\n",
    "    public String toString() {\n",
    "        String string = \"[\"; // starting the list format\n",
    "        Node<T> current = head; // start with head\n",
    "        while (current != null) {\n",
    "            string += current.data; // appending the current data to the string\n",
    "            if (current.next != null) {\n",
    "                string += \", \"; // good punctuation = professionalism\n",
    "            }\n",
    "            current = current.next; // moving on\n",
    "        }\n",
    "        string += \"]\"; // capping off the list format\n",
    "        return string;\n",
    "    }\n",
    "\n",
    "    // this is to return a JSON representation of the list\n",
    "    // i basically did the same thign as I did for the toString() one\n",
    "    public String toJSON() {\n",
    "        String json = \"{\"; // starting format\n",
    "        Node<T> current = head; // start with head\n",
    "        while (current != null) {\n",
    "            json += \"\\\"\" + current.data + \"\\\"\"; // adding current data in quotations for JSON\n",
    "            if (current.next != null) {\n",
    "                json += \", \"; // good punctuation again, this time very important\n",
    "            }\n",
    "            current = current.next; // moving on\n",
    "        }\n",
    "        json += \"}\"; // capping off\n",
    "        return json;\n",
    "    }\n",
    "\n",
    "    // may be implemented? still researching\n",
    "    public void changeSortKey() {\n",
    "        // yet to come...\n",
    "    }\n",
    "\n",
    "    // main method for testing\n",
    "    public static void main(String[] args) {\n",
    "        LinkedList<Integer> list = new LinkedList<>();\n",
    "        list.add(5);\n",
    "        list.add(3);\n",
    "        list.add(8);\n",
    "        list.add(1);\n",
    "        System.out.println(\"Original list: \" + list);\n",
    "        list.selectionSort();\n",
    "        System.out.println(\"Sorted list: \" + list);\n",
    "        System.out.println(\"JSON representation: \" + list.toJSON());\n",
    "    }\n",
    "}\n",
    "\n",
    "LinkedList.main(null);"
   ]
  },
  {
   "cell_type": "code",
   "execution_count": 5,
   "metadata": {
    "vscode": {
     "languageId": "java"
    }
   },
   "outputs": [],
   "source": [
    "// Custom interface for collectable items\n",
    "interface Collectable<T> extends Comparable<T> {\n",
    "    // Implementing compareTo method to define natural ordering\n",
    "    @Override\n",
    "    int compareTo(T other);\n",
    "\n",
    "    String toString(); // Needed for LinkedList printing\n",
    "}\n",
    "\n",
    "// Star Wars character class implementing Collectable interface\n",
    "class StarWarsCharacter implements Collectable<StarWarsCharacter> {\n",
    "    private String name;\n",
    "    private String species;\n",
    "    private int powerLevel;\n",
    "\n",
    "    // Constructor\n",
    "    public StarWarsCharacter(String name, String species, int powerLevel) {\n",
    "        this.name = name;\n",
    "        this.species = species;\n",
    "        this.powerLevel = powerLevel;\n",
    "    }\n",
    "\n",
    "    // Getters methods\n",
    "    public String getName() { return name; }\n",
    "    public String getSpecies() { return species; }\n",
    "    public int getPowerLevel() { return powerLevel; }\n",
    "\n",
    "    // Implementing the interface compareTo method\n",
    "    // Define natural ordering based on power level\n",
    "    @Override\n",
    "    public int compareTo(StarWarsCharacter other) {\n",
    "        return Integer.compare(this.powerLevel, other.powerLevel);\n",
    "    }\n",
    "\n",
    "    // Overriding toString method for better representation of the character\n",
    "    @Override\n",
    "    public String toString() {\n",
    "        return name + \" (\" + species + \") - Power Level: \" + powerLevel;\n",
    "    }\n",
    "}"
   ]
  },
  {
   "cell_type": "code",
   "execution_count": 6,
   "metadata": {
    "vscode": {
     "languageId": "java"
    }
   },
   "outputs": [
    {
     "name": "stdout",
     "output_type": "stream",
     "text": [
      "Original list: [Luke Skywalker (Human) - Power Level: 9000, Darth Vader (Human) - Power Level: 9500, Yoda (Unknown) - Power Level: 10000, Han Solo (Human) - Power Level: 8500]\n",
      "Sorted list: [Han Solo (Human) - Power Level: 8500, Luke Skywalker (Human) - Power Level: 9000, Darth Vader (Human) - Power Level: 9500, Yoda (Unknown) - Power Level: 10000]\n",
      "JSON representation: {\"Han Solo (Human) - Power Level: 8500\", \"Luke Skywalker (Human) - Power Level: 9000\", \"Darth Vader (Human) - Power Level: 9500\", \"Yoda (Unknown) - Power Level: 10000\"}\n"
     ]
    }
   ],
   "source": [
    "// Using the custom LinkedList class with selection sort\n",
    "public class Main {\n",
    "    public static void main(String[] args) {\n",
    "        LinkedList<StarWarsCharacter> characters = new LinkedList<>();\n",
    "        characters.add(new StarWarsCharacter(\"Luke Skywalker\", \"Human\", 9000));\n",
    "        characters.add(new StarWarsCharacter(\"Darth Vader\", \"Human\", 9500));\n",
    "        characters.add(new StarWarsCharacter(\"Yoda\", \"Unknown\", 10000));\n",
    "        characters.add(new StarWarsCharacter(\"Han Solo\", \"Human\", 8500));\n",
    "\n",
    "        System.out.println(\"Original list: \" + characters);\n",
    "        characters.selectionSort();\n",
    "        System.out.println(\"Sorted list: \" + characters);\n",
    "        System.out.println(\"JSON representation: \" + characters.toJSON());\n",
    "    }\n",
    "}\n",
    "Main.main(null);"
   ]
  }
 ],
 "metadata": {
  "kernelspec": {
   "display_name": "Java",
   "language": "java",
   "name": "java"
  },
  "language_info": {
   "codemirror_mode": "java",
   "file_extension": ".jshell",
   "mimetype": "text/x-java-source",
   "name": "Java",
   "pygments_lexer": "java",
   "version": "17.0.10+7-Ubuntu-122.04.1"
  }
 },
 "nbformat": 4,
 "nbformat_minor": 2
}
