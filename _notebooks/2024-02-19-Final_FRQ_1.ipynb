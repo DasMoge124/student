{
 "cells": [
  {
   "cell_type": "markdown",
   "metadata": {},
   "source": [
    "---\n",
    "toc: true\n",
    "comments: true\n",
    "layout: post\n",
    "title: FRQ Question 1\n",
    "type: hacks\n",
    "---"
   ]
  },
  {
   "cell_type": "markdown",
   "metadata": {},
   "source": [
    "## FRQ #1: Diverse Array\n",
    "Question 1:\n",
    "(a) Write a static method arraySum that calculates and returns the sum of the entries in a specified one-dimensional array. The following example shows an array arr1 and the value returned by a call to arraySum.\n",
    "\n",
    "(b) Write a static method rowSums that calculates the sums of each of the rows in a given two-dimensional array and returns these sums in a one-dimensional array. The method has one parameter, a two-dimensional array arr2D of int values. The array is in row-major order: arr2D [r] [c] is the entry at row r and column c. The method returns a one-dimensional array with one entry for each row of arr2D such that each entry is the sum of the corresponding row in arr2D. As a reminder, each row of a two-dimensional array is a one-dimensional array.\n",
    "\n",
    "(c) A two-dimensional array is diverse if no two of its rows have entries that sum to the same value. In the following examples, the array mat1 is diverse because each row sum is different, but the array mat2 is not diverse because the first and last rows have the same sum. Write a static method isDiverse that determines whether or not a given two-dimensional array is diverse. The method has one parameter: a two-dimensional array arr2D of int values. The method should return true if all the row sums in the given array are unique; otherwise, it should return false. In the arrays shown above, the call isDiverse (mat1) returns true and the call isDiverse(mat2) returns false."
   ]
  },
  {
   "cell_type": "code",
   "execution_count": 1,
   "metadata": {
    "vscode": {
     "languageId": "java"
    }
   },
   "outputs": [
    {
     "name": "stdout",
     "output_type": "stream",
     "text": [
      "336\n",
      "345 363 373 315 225 \n",
      "Is it diverse: true\n"
     ]
    }
   ],
   "source": [
    "import java.util.Arrays;\n",
    "\n",
    "// Type of FRQ =  2D Array \n",
    "public class DiverseArray {\n",
    "    public static int arraySum(int[] arr) { //Part A\n",
    "        int sum = 0;\n",
    "        for (int i : arr) { //Complete Search\n",
    "            sum += i;\n",
    "        }\n",
    "        return sum;\n",
    "    }\n",
    "\n",
    "    public static int[] rowSums(int[][] arr2D) { //Part B\n",
    "        int[] finalArr = new int[arr2D.length];\n",
    "        for (int i = 0; i < arr2D.length; i++) { //Complete Search\n",
    "            int sum = arraySum(arr2D[i]);\n",
    "            finalArr[i] = sum;\n",
    "        }\n",
    "        return finalArr;\n",
    "    }\n",
    "    public static boolean isDiverse(int [][] arr2D){ //Part C\n",
    "        int[] finalArr = rowSums(arr2D);\n",
    "        int len = finalArr.length;\n",
    "        for (int i  = 0; i<len-1;i++){ //Complete Search with Nested For Loops\n",
    "            for (int j = i+1; j <len;j++){\n",
    "                if (finalArr[i] == finalArr[j]){ \n",
    "                    return false;\n",
    "                }\n",
    "            }\n",
    "        }\n",
    "        return true;\n",
    "    }\n",
    "    //What makes the Code Run\n",
    "    public static void Main(String[] args) {\n",
    "        int[] values1 = {75,83,87,91};\n",
    "        System.out.println(arraySum(values1));\n",
    "        int[][] values2 = {\n",
    "            {90,85,92,78},\n",
    "            {88,91,89,95},\n",
    "            {91,95,89,98},\n",
    "            {72,75,83,85},\n",
    "            {37,61,73,54}\n",
    "        };\n",
    "        int[] results = rowSums(values2);\n",
    "        for (int i = 0; i<results.length;i++){\n",
    "            System.out.print(Integer.toString(results[i])+\" \");\n",
    "        }\n",
    "        System.out.println();\n",
    "        System.out.println(\"Is it diverse: \" + isDiverse(values2));\n",
    "    }\n",
    "    //Some Extra\n",
    "    public void Extra(){\n",
    "        // Class Averages\n",
    "        int[] classScores = {75,83,87,91};\n",
    "        System.out.print(arraySum(classScores));\n",
    "        System.out.println(\"/400 is the class average\");\n",
    "\n",
    "       //Student Scores\n",
    "        int[][] student = {\n",
    "        {90,85,92,78},\n",
    "        {88,91,89,95},\n",
    "        {91,95,89,98},\n",
    "        {72,75,83,85},\n",
    "        {37,61,73,54}\n",
    "       };\n",
    "       String[] studentNames = {\"Jerry\",\"Bobby\",\"John\",\"Ted\",\"Amanda\"};\n",
    "       int[] studentScores = rowSums(student);\n",
    "       int max = 0;\n",
    "       int highestScorer = 0;\n",
    "       System.out.println(\"The scores each person got are: \");\n",
    "       for (int i = 0; i<studentScores.length;i++){\n",
    "        System.out.println(studentNames[i] + \": \"+ Integer.toString(studentScores[i]) + \" \");\n",
    "        if (studentScores[i]/(student[0].length) > max){\n",
    "            max = studentScores[i]/(student[0].length);\n",
    "            highestScorer = i;\n",
    "        }\n",
    "       }\n",
    "       boolean diverse = isDiverse(student);\n",
    "       if (diverse){\n",
    "        System.out.println(\"All of the scores are different from each other\");\n",
    "       } else{\n",
    "        System.out.println(\"At least two scores are the same\");\n",
    "       }\n",
    "       System.out.println(\"The highest scorer is \" + studentNames[highestScorer] + \" with an average of \" + Integer.toString(max));\n",
    "    }\n",
    "}\n",
    "DiverseArray.Main(null);"
   ]
  }
 ],
 "metadata": {
  "kernelspec": {
   "display_name": "Java",
   "language": "java",
   "name": "java"
  },
  "language_info": {
   "codemirror_mode": "java",
   "file_extension": ".jshell",
   "mimetype": "text/x-java-source",
   "name": "Java",
   "pygments_lexer": "java",
   "version": "17.0.9+9-Ubuntu-122.04"
  }
 },
 "nbformat": 4,
 "nbformat_minor": 2
}
