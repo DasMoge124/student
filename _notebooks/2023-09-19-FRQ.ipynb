{
 "cells": [
  {
   "cell_type": "markdown",
   "metadata": {},
   "source": [
    "---\n",
    "title: Java\n",
    "toc: true\n",
    "description: A Tech Talk on outputs using HTML and Javascript. This uses jquery for easy onscreen interaction and filtering.\n",
    "courses: { csse: {week: 5}, csp: {week: 2, categories: [3.A, 5.B]}, csa: {week: 5} }\n",
    "categories: [C3.0, C3.1, C4.1]\n",
    "type: hacks\n",
    "---"
   ]
  },
  {
   "cell_type": "code",
   "execution_count": 16,
   "metadata": {
    "vscode": {
     "languageId": "java"
    }
   },
   "outputs": [],
   "source": [
    "public class Level {\n",
    "    int value;\n",
    "    String name;\n",
    "    boolean reached;\n",
    "    public Level(int Value, String Name){\n",
    "        value = Value;\n",
    "        name = Name;\n",
    "    }\n",
    "    public boolean goalReached() {\n",
    "        return true;\n",
    "    }\n",
    "    public int getPoints() {\n",
    "        return value;\n",
    "    }\n",
    "}"
   ]
  },
  {
   "cell_type": "code",
   "execution_count": 22,
   "metadata": {
    "vscode": {
     "languageId": "java"
    }
   },
   "outputs": [
    {
     "name": "stdout",
     "output_type": "stream",
     "text": [
      "OINK!\n"
     ]
    }
   ],
   "source": [
    "public class Animal{\n",
    "    public static void main(String[] args){\n",
    "        Pig pig1 =  new Pig();\n",
    "        pig1.Oink();\n",
    "    }\n",
    "}\n",
    "Animal.main(null);"
   ]
  }
 ],
 "metadata": {
  "kernelspec": {
   "display_name": "Java",
   "language": "java",
   "name": "java"
  },
  "language_info": {
   "codemirror_mode": "java",
   "file_extension": ".jshell",
   "mimetype": "text/x-java-source",
   "name": "Java",
   "pygments_lexer": "java",
   "version": "11.0.20.1+1-post-Ubuntu-0ubuntu122.04"
  },
  "orig_nbformat": 4
 },
 "nbformat": 4,
 "nbformat_minor": 2
}
