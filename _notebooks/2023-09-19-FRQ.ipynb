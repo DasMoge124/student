{
 "cells": [
  {
   "cell_type": "markdown",
   "metadata": {},
   "source": [
    "---\n",
    "title: APCSA 2022 FRQ Question 1\n",
    "toc: true\n",
    "description: APCSA 2022 FRQ 1\n",
    "courses: { csse: {week: 5}, csp: {week: 2, categories: [3.A, 5.B]}, csa: {week: 5} }\n",
    "categories: [C3.0, C3.1, C4.1]\n",
    "type: hacks\n",
    "---"
   ]
  },
  {
   "cell_type": "markdown",
   "metadata": {},
   "source": [
    "- FRQ: https://apcentral.collegeboard.org/media/pdf/ap22-frq-computer-science-a.pdf"
   ]
  },
  {
   "cell_type": "code",
   "execution_count": 23,
   "metadata": {
    "vscode": {
     "languageId": "java"
    }
   },
   "outputs": [],
   "source": [
    "public class Level {\n",
    "    int value;\n",
    "    String name;\n",
    "    boolean reached;\n",
    "    public Level(int Value, String Name){ //sets up everything for the levels\n",
    "        value = Value;\n",
    "        name = Name;\n",
    "    }\n",
    "    public boolean goalReached() {\n",
    "        return true;\n",
    "    }\n",
    "    public int getPoints() {\n",
    "        return value;\n",
    "    }\n",
    "}"
   ]
  },
  {
   "cell_type": "code",
   "execution_count": 24,
   "metadata": {
    "vscode": {
     "languageId": "java"
    }
   },
   "outputs": [],
   "source": [
    "import java.util.*;\n",
    "public class Game {\n",
    "    private static Level levelOne = new Level(100, \"One\"); //some minor edits to the three levels\n",
    "    private static Level levelTwo = new Level(200, \"Two\");\n",
    "    private static Level levelThree = new Level(500,\"Three\");\n",
    "    public static int count = 0;    \n",
    "    public static int winCount = 0;\n",
    "\n",
    "    public Game() {\n",
    "        \n",
    "    }\n",
    "\n",
    "\n",
    "    public boolean isBonus() {\n",
    "        if (levelThree.goalReached()) {\n",
    "            return true;\n",
    "        } else {\n",
    "            return false;\n",
    "        }\n",
    "    }\n",
    "\n",
    "\n",
    "    public static void play() {\n",
    "        Scanner Input = new Scanner(System.in);\n",
    "        int integer = Input.nextInt();\n",
    "        if (integer==1){\n",
    "            levelOne.goalReached();\n",
    "        }\n",
    "        else if (integer == 2){\n",
    "            levelTwo.goalReached();\n",
    "        }\n",
    "        else if (integer ==3){\n",
    "            levelThree.goalReached();\n",
    "        }\n",
    "    }\n",
    "\n",
    "\n",
    "    public static int getScore() {\n",
    "        play();\n",
    "        int score = 0;\n",
    "        if (levelOne.goalReached()) {\n",
    "            score += 200;\n",
    "            if (levelTwo.goalReached()) {\n",
    "                score += 100;\n",
    "                if (levelThree.goalReached()) {\n",
    "                    score += 500;\n",
    "                }\n",
    "            }\n",
    "        }\n",
    "        if (levelThree.goalReached()) {\n",
    "            score *= 3;\n",
    "        }\n",
    "        return score;\n",
    "    }\n",
    "\n",
    "\n",
    "    public static int playManyTimes(int num) {// You can play however many times you want\n",
    "        int max = 0;\n",
    "        for (int i = 0; i < num; i++) {\n",
    "            int score = getScore();\n",
    "            if (score > max) {\n",
    "                max = score;\n",
    "            }\n",
    "        }\n",
    "        return max;\n",
    "    }\n",
    "    public static void main(String[] args){ //Main function helps run the code\n",
    "        System.out.println(\"How many times do you want to play?\");\n",
    "        Scanner input = new Scanner(System.in);\n",
    "        int playTimes = input.nextInt();\n",
    "        System.out.println(playManyTimes(playTimes));\n",
    "    }\n",
    "\n",
    "}\n",
    "Game.main(null);"
   ]
  },
  {
   "cell_type": "markdown",
   "metadata": {},
   "source": [
    "Output: \"How many times do you want to play?\""
   ]
  }
 ],
 "metadata": {
  "kernelspec": {
   "display_name": "Java",
   "language": "java",
   "name": "java"
  },
  "language_info": {
   "codemirror_mode": "java",
   "file_extension": ".jshell",
   "mimetype": "text/x-java-source",
   "name": "Java",
   "pygments_lexer": "java",
   "version": "11.0.20.1+1-post-Ubuntu-0ubuntu122.04"
  },
  "orig_nbformat": 4
 },
 "nbformat": 4,
 "nbformat_minor": 2
}
