{
 "cells": [
  {
   "cell_type": "code",
   "execution_count": 13,
   "metadata": {},
   "outputs": [
    {
     "ename": "CompilationException",
     "evalue": "",
     "output_type": "error",
     "traceback": [
      "\u001b[1m\u001b[30m|   \u001b[1m\u001b[30mimport \u001b[0m\u001b[1m\u001b[30m\u001b[41mcom.fasterxml.jackson.databind.JsonNode\u001b[0m\u001b[1m\u001b[30m;\u001b[0m",
      "\u001b[1m\u001b[31mpackage com.fasterxml.jackson.databind does not exist\u001b[0m",
      ""
     ]
    }
   ],
   "source": [
    "public void Extra(){\n",
    "    // Class Averages\n",
    "    int[] classScores = {75,83,87,91};\n",
    "    System.out.print(arraySum(classScores));\n",
    "    System.out.println(\"/400 is the class average\");\n",
    "\n",
    "   //Student Scores\n",
    "    int[][] student = {\n",
    "    {90,85,92,78},\n",
    "    {88,91,89,95},\n",
    "    {91,95,89,98},\n",
    "    {72,75,83,85},\n",
    "    {37,61,73,54}\n",
    "   };\n",
    "   String[] studentNames = {\"Jerry\",\"Bobby\",\"John\",\"Ted\",\"Amanda\"};\n",
    "   int[] studentScores = rowSums(student);\n",
    "   int max = 0;\n",
    "   int highestScorer = 0;\n",
    "   System.out.println(\"The scores each person got are: \");\n",
    "   for (int i = 0; i<studentScores.length;i++){\n",
    "    System.out.println(studentNames[i] + \": \"+ Integer.toString(studentScores[i]) + \" \");\n",
    "    if (studentScores[i]/(student[0].length) > max){\n",
    "        max = studentScores[i]/(student[0].length);\n",
    "        highestScorer = i;\n",
    "    }\n",
    "   }\n",
    "   boolean diverse = isDiverse(student);\n",
    "   if (diverse){\n",
    "    System.out.println(\"All of the scores are different from each other\");\n",
    "   } else{\n",
    "    System.out.println(\"At least two scores are the same\");\n",
    "   }\n",
    "   System.out.println(\"The highest scorer is \" + studentNames[highestScorer] + \" with an average of \" + Integer.toString(max));\n",
    "}"
   ]
  }
 ],
 "metadata": {
  "kernelspec": {
   "display_name": "Java",
   "language": "java",
   "name": "java"
  },
  "language_info": {
   "codemirror_mode": "java",
   "file_extension": ".jshell",
   "mimetype": "text/x-java-source",
   "name": "java",
   "pygments_lexer": "java",
   "version": "11.0.21+9-post-Ubuntu-0ubuntu122.04"
  }
 },
 "nbformat": 4,
 "nbformat_minor": 2
}
