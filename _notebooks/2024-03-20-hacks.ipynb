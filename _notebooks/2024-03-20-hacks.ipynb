{
 "cells": [
  {
   "cell_type": "markdown",
   "metadata": {},
   "source": [
    "---\n",
    "toc: true\n",
    "comments: true\n",
    "layout: post\n",
    "title: Classes\n",
    "description: The difference in the application and use of Value and Reference types in Java.\n",
    "authors: Kevin Du\n",
    "courses: { compsci: {week: 1} }\n",
    "type: hacks\n",
    "---"
   ]
  },
  {
   "cell_type": "markdown",
   "metadata": {},
   "source": [
    "### (a) Explain the concept of iteration over a 2D array in Java. Provide an example scenario where iterating over a 2D array is useful in a programming task.\n",
    "\n",
    "Iteration over a 2D array in Java involves traversing through each element of the array using nested loops. Since a 2D array is essentially an array of arrays, you'll typically use two loops: one for the rows and another for the columns.\n",
    "\n",
    "When you want to calculate the sum of an entire matrix, using iteration over 2D arrays would be useful in this kind of scenario. \n",
    "### (b) You need to implement a method calculateTotalScore that takes a 2D array scores of integers representing player scores and returns the sum of all the elements in the array. Write the method signature and the method implementation. Include comments to explain your code."
   ]
  },
  {
   "cell_type": "code",
   "execution_count": 1,
   "metadata": {},
   "outputs": [
    {
     "name": "stdout",
     "output_type": "stream",
     "text": [
      "Sum of all elements in the matrix: 45\n"
     ]
    }
   ],
   "source": [
    "public class Main {\n",
    "    public static void main(String[] args) {\n",
    "        int[][] student Scores = { {1, 2, 3}, {4, 5, 6}, {7, 8, 9} };\n",
    "        int sum = 0;\n",
    "        \n",
    "        for (int i = 0; i < matrix.length; i++) {\n",
    "            for (int j = 0; j < matrix[i].length; j++) {\n",
    "                sum += matrix[i][j];\n",
    "            }\n",
    "        }\n",
    "        \n",
    "        System.out.println(\"Total Scores: \" + sum);\n",
    "    }\n",
    "}\n",
    "\n",
    "Main.main(null);"
   ]
  },
  {
   "cell_type": "markdown",
   "metadata": {},
   "source": [
    "FRQ 4: Math Class (Unit 2)\n",
    "Situation: You are developing a scientific calculator application where users need to perform various mathematical operations.\n",
    "\n",
    "(a) Discuss the purpose and utility of the Math class in Java programming. Provide examples of at least three methods provided by the Math class and explain their usage.\n",
    "To do math functions.\n",
    "Math.random gives a random float to get a random value\n",
    "Math.pow raises a value to a power\n",
    "Math.min finds the minimum of two numbers\n",
    "\n",
    "(b) Code:\n",
    "\n",
    "You need to implement a method calculateSquareRoot that takes a double number as input and returns its square root using the Math class. Write the method signature and the method implementation. Include comments to explain your code."
   ]
  },
  {
   "cell_type": "code",
   "execution_count": null,
   "metadata": {},
   "outputs": [],
   "source": [
    "import java.lang.Math.*;\n",
    "public class Main {\n",
    "    public static double calculateSquareRoot(double root) {\n",
    "        return Math.sqrt(root); //square root the number\n",
    "    }\n",
    "    public static void main (String[] args) {\n",
    "        System.out.println(calculateSquareRoot(5.4002));\n",
    "    }\n",
    "}\n",
    "Main.main(null);"
   ]
  }
 ],
 "metadata": {
  "kernelspec": {
   "display_name": "Java",
   "language": "java",
   "name": "java"
  },
  "language_info": {
   "codemirror_mode": "java",
   "file_extension": ".jshell",
   "mimetype": "text/x-java-source",
   "name": "java",
   "pygments_lexer": "java",
   "version": "17.0.10+7-Ubuntu-122.04.1"
  }
 },
 "nbformat": 4,
 "nbformat_minor": 2
}
