{
 "cells": [
  {
   "cell_type": "markdown",
   "metadata": {},
   "source": [
    "---\n",
    "toc: true\n",
    "comments: true\n",
    "layout: post\n",
    "title: FRQ Question 4\n",
    "type: hacks\n",
    "---"
   ]
  },
  {
   "cell_type": "markdown",
   "metadata": {},
   "source": [
    "\n",
    "This question involves the design of an interface, writing a class that implements the interface, and writing a method that uses the interface.\n",
    "\n",
    "(a) A number group represents a group of integers defined in some way. It could be empty, or it could contain one or more integers.\n",
    "\n",
    "Write an interface named NumberGroup that represents a group of integers. The interface should have a single contains method that determines if a given integer is in the group. For example, if group1 is of type NumberGroup, and it contains only the two numbers -5 and 3, then group1.contains(-5) would return true, and group1.contains(2) would return false.\n",
    "Write the complete NumberGroup interface. It must have exactly one method.\n",
    "\n",
    "\n",
    " \n",
    "\n",
    "(b) A range represents a number group that contains all (and only) the integers between a minimum value and a maximum value, inclusive.\n",
    "Write the Range class, which is a NumberGroup. The Range class represents the group of int values that range from a given minimum value up through a given maximum value, inclusive. For example,the declaration\n",
    "```java\n",
    "NumberGroup range1 = new Range(-3, 2);\n",
    "```\n",
    " \n",
    "\n",
    "represents the group of integer values -3, -2, -1, 0, 1, 2.\n",
    "\n",
    "Write the complete Range class. Include all necessary instance variables and methods as well as a constructor that takes two int parameters. The first parameter represents the minimum value, and the second parameter represents the maximum value of the range. You may assume that the minimum is less than or equal to the maximum.\n",
    "\n",
    " \n",
    "\n",
    "(c) The MultipleGroups class (not shown) represents a collection of NumberGroup objects and isa NumberGroup. The MultipleGroups class stores the number groups in the instance variable groupList (shown below), which is initialized in the constructor.\n",
    "```java\n",
    "private List<NumberGroup> groupList;\n",
    "```\n",
    "Write the MultipleGroups method contains. The method takes an integer and returns true if and only if the integer is contained in one or more of the number groups in groupList.\n",
    "\n",
    "For example, suppose multiple1 has been declared as an instance of MultipleGroups and consists of the three ranges created by the calls new Range(5, 8), new Range(10, 12), and new Range(1, 6). The following table shows the results of several calls to contains."
   ]
  },
  {
   "cell_type": "code",
   "execution_count": 7,
   "metadata": {
    "vscode": {
     "languageId": "java"
    }
   },
   "outputs": [
    {
     "name": "stdout",
     "output_type": "stream",
     "text": [
      "range1.contains(-2): true\n",
      "range1.contains(3): false\n",
      "multipleGroups.contains(4): true\n",
      "multipleGroups.contains(100): false\n",
      "multipleGroups.contains(11): true\n"
     ]
    }
   ],
   "source": [
    "public interface NumberGroup { //Part A\n",
    "    public boolean contains(int number);\n",
    "}\n",
    "public class Range implements NumberGroup { //Part B\n",
    "    private int min; \n",
    "    private int max;\n",
    "    \n",
    "    public Range(int min, int max){\n",
    "        this.min = min;\n",
    "        this.max = max;\n",
    "    }\n",
    "\n",
    "    @Override\n",
    "    public boolean contains(int number) {\n",
    "        if (number >= min && number <= max){\n",
    "            return true;\n",
    "        }\n",
    "        else{\n",
    "            return false;\n",
    "        }\n",
    "    }\n",
    "}\n",
    "\n",
    "public class MultipleGroups implements NumberGroup{ //Part C\n",
    "    private List<NumberGroup> groupList;\n",
    "    public MultipleGroups(List<NumberGroup> groupList) {\n",
    "        this.groupList = groupList;\n",
    "    }\n",
    "\n",
    "    @Override\n",
    "    public boolean contains(int num){\n",
    "        for (NumberGroup i:groupList){\n",
    "            if (i.contains(num)){\n",
    "                return true;\n",
    "            }\n",
    "        }\n",
    "        return false;\n",
    "    }\n",
    "}\n",
    "public class Main {\n",
    "    public static void main(String[] args) {\n",
    "        NumberGroup arr1 = new Range(-3, 2);\n",
    "        System.out.println(\"range1.contains(-2): \" + arr1.contains(-2));\n",
    "        System.out.println(\"range1.contains(3): \" + arr1.contains(3));\n",
    "\n",
    "        NumberGroup arr2 = new Range(4, 7);\n",
    "        NumberGroup arr3 = new Range(10, 15);\n",
    "        List<NumberGroup> groupList = new ArrayList<>();\n",
    "        groupList.add(arr2);\n",
    "        groupList.add(arr3);\n",
    "        NumberGroup multipleGroups = new MultipleGroups(groupList);\n",
    "        System.out.println(\"multipleGroups.contains(4): \" + multipleGroups.contains(4));        \n",
    "        System.out.println(\"multipleGroups.contains(100): \" + multipleGroups.contains(100));\n",
    "        System.out.println(\"multipleGroups.contains(11): \" + multipleGroups.contains(11));\n",
    "    }\n",
    "}\n",
    "Main.main(null);"
   ]
  }
 ],
 "metadata": {
  "kernelspec": {
   "display_name": "Java",
   "language": "java",
   "name": "java"
  },
  "language_info": {
   "codemirror_mode": "java",
   "file_extension": ".jshell",
   "mimetype": "text/x-java-source",
   "name": "Java",
   "pygments_lexer": "java",
   "version": "17.0.9+9-Ubuntu-122.04"
  }
 },
 "nbformat": 4,
 "nbformat_minor": 2
}
