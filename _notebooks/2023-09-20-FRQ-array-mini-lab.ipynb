{
 "cells": [
  {
   "cell_type": "markdown",
   "metadata": {},
   "source": [
    "---\n",
    "toc: true\n",
    "comments: true\n",
    "layout: post\n",
    "title: FRQ Number 3 - Array/Array List\n",
    "description: A guide featuring an FRQ question from the 2015 AP CSA to show how to approach and solve and array FRQ problem.\n",
    "type: hacks\n",
    "courses: {csa: {week: 5}}\n",
    "---"
   ]
  },
  {
   "cell_type": "markdown",
   "metadata": {},
   "source": [
    "* [Link to Full Test](https://secure-media.collegeboard.org/digitalServices/pdf/ap/ap15_frq_computer_science_a.pdf)\n",
    "\n",
    "# Part A:\n",
    "\n",
    "<img width=\"700\" alt=\"image\" src=\"https://github.com/AniCricKet/automatic-spork/assets/91163802/55e3d742-62c1-4bc1-939d-e024f2db9f3a\">\n",
    "<img width=\"700\" alt=\"Screenshot 2023-09-20 at 12 49 59 PM\" src=\"https://github.com/AniCricKet/automatic-spork/assets/91163802/712d9297-c2cd-4b5b-9250-f663b03c03ce\">\n",
    "\n",
    "## Approach\n",
    "\n",
    "\n",
    "To code a Java static method called arraySum for calculating the sum of entries in a specified one-dimensional array, I would start by defining the method within a Java class. The method would take an integer array as a parameter. Inside the method, I would initialize a variable, such as sum, to zero. Then, I'd use a for loop to iterate through the elements of the input array, adding each element's value to the sum in each iteration. After processing all the elements, I would return the sum as the result. Next, I would create a main method or use an existing one to demonstrate the usage of the arraySum method. Inside main, I would declare an example array (in this case, arr1) with the provided data. Finally, I would call the arraySum method with arr1 as an argument and print the returned sum to the console using System.out.println. This approach would allow the code to calculate and display the sum of the elements in the arr1 array, as specified in the prompt."
   ]
  },
  {
   "cell_type": "code",
   "execution_count": 2,
   "metadata": {},
   "outputs": [
    {
     "name": "stdout",
     "output_type": "stream",
     "text": [
      "Sum of the elements in arr1: 16\n"
     ]
    }
   ],
   "source": [
    "public class ArraySumCalculator {\n",
    "\n",
    "    // This is a static method that calculates and returns the sum of elements in an integer array.\n",
    "    public static int arraySum(int[] arr) {\n",
    "        int sum = 0; // Initialize a variable to store the sum of elements, starting at zero.\n",
    "        for (int i = 0; i < arr.length; i++) {\n",
    "            // Iterate through the elements of the input array.\n",
    "            sum += arr[i]; // Add the current element to the sum.\n",
    "        }\n",
    "        return sum; // Return the calculated sum as the result.\n",
    "    }\n",
    "\n",
    "    public static void main(String[] args) {\n",
    "        int[] arr1 = {1, 3, 2, 7, 3}; // Declare and initialize an example array with data.\n",
    "        int sum = arraySum(arr1); // Call the arraySum method to calculate the sum of elements in arr1.\n",
    "        System.out.println(\"Sum of the elements in arr1: \" + sum); // Print the result to the console.\n",
    "    }\n",
    "}\n",
    "\n",
    "ArraySumCalculator.main(null);\n"
   ]
  },
  {
   "cell_type": "markdown",
   "metadata": {},
   "source": [
    "# Part B:\n",
    "\n",
    "<img width=\"700\" alt=\"Screenshot 2023-09-20 at 12 51 23 PM\" src=\"https://github.com/AniCricKet/automatic-spork/assets/91163802/7efb2626-1264-4c56-a9d4-593948849349\">\n",
    "<img width=\"700\" alt=\"Screenshot 2023-09-20 at 12 51 42 PM\" src=\"https://github.com/AniCricKet/automatic-spork/assets/91163802/50d1d370-c827-4ff8-9d4f-fc3d499a45eb\">\n",
    "\n",
    "\n",
    "## Approach\n",
    "\n",
    "Approaching the task of coding the rowSums method involves analyzing the problem statement and understanding the requirement to calculate the sums of rows in a two-dimensional array. The initial steps would include defining the method's signature and establishing variables for tracking the number of rows and the resulting array for storing row sums. A nested loop structure would be implemented to iterate through each row and its elements, calculating the sum for each row and recording it in the result array. This comprehensive approach would ensure that the method correctly handles the task of summing rows in the input array, with comments providing clarity throughout the code. Thorough testing, including edge cases, would be conducted to validate the code's correctness and robustness."
   ]
  },
  {
   "cell_type": "code",
   "execution_count": 4,
   "metadata": {},
   "outputs": [
    {
     "name": "stdout",
     "output_type": "stream",
     "text": [
      "Sum of row 0: 16\n",
      "Sum of row 1: 32\n",
      "Sum of row 2: 28\n",
      "Sum of row 3: 20\n"
     ]
    }
   ],
   "source": [
    "public class sumofrows {\n",
    "    public static void main(String[] args) {\n",
    "        // Create a sample 2D array\n",
    "        int[][] myArray = {\n",
    "            {1, 3, 2, 7, 3},\n",
    "            {10, 10, 4, 6, 2},\n",
    "            {5, 3, 5, 9, 6},\n",
    "            {7, 6, 4, 2, 1}\n",
    "        };\n",
    "\n",
    "        // Call the rowSums method with your 2D array\n",
    "        int[] sums = rowSums(myArray);\n",
    "\n",
    "        // Print the row sums\n",
    "        for (int i = 0; i < sums.length; i++) {\n",
    "            System.out.println(\"Sum of row \" + i + \": \" + sums[i]);\n",
    "        }\n",
    "    }\n",
    "\n",
    "    public static int[] rowSums(int[][] arr2D) {\n",
    "        int numRows = arr2D.length; // Get the number of rows in the 2D array\n",
    "        int[] sums = new int[numRows]; // Create an array to store the row sums\n",
    "    \n",
    "        // Iterate through each row of the 2D array\n",
    "        for (int i = 0; i < numRows; i++) {\n",
    "            int sum = 0; // Initialize a sum variable to 0 for the current row\n",
    "    \n",
    "            // Iterate through each element in the current row\n",
    "            for (int j = 0; j < arr2D[i].length; j++) {\n",
    "                sum += arr2D[i][j]; // Add the element to the current sum\n",
    "            }\n",
    "    \n",
    "            sums[i] = sum; // Store the sum of the current row in the result array\n",
    "        }\n",
    "    \n",
    "        return sums; // Return the array of row sums\n",
    "    }\n",
    "}\n",
    "\n",
    "sumofrows.main(null);\n"
   ]
  },
  {
   "cell_type": "markdown",
   "metadata": {},
   "source": [
    "# Part C:\n",
    "\n",
    "<img width=\"700\" alt=\"Screenshot 2023-09-20 at 12 53 49 PM\" src=\"https://github.com/AniCricKet/automatic-spork/assets/91163802/78aa9d2f-9c1c-40f7-b714-f88e12dc6a12\">\n",
    "<img width=\"700\" alt=\"Screenshot 2023-09-20 at 12 54 08 PM\" src=\"https://github.com/AniCricKet/automatic-spork/assets/91163802/6045de5d-7778-4c06-baf4-a60c910e6d86\">\n",
    "\n",
    "\n",
    "## Approach\n",
    "\n",
    "To code the isDiverse method, I'd begin by understanding the problem: we want to determine if all rows in a two-dimensional array have different sums. I'd import the necessary tools and create the isDiverse method, which takes the array as input. Inside the method, I'd use two lists to keep track of the sums we've encountered. I'd then iterate through each row, calculating its sum. If I encounter a sum that's been seen before, I'd conclude that the array is not diverse and stop. But if every sum is unique, I'd consider the array diverse and return \"true.\" I'd add comments to clarify each part of the code and conduct thorough testing to ensure it works reliably with various input arrays."
   ]
  },
  {
   "cell_type": "code",
   "execution_count": 6,
   "metadata": {},
   "outputs": [
    {
     "name": "stdout",
     "output_type": "stream",
     "text": [
      "mat1 is diverse: true\n",
      "mat2 is diverse: false\n"
     ]
    }
   ],
   "source": [
    "import java.util.HashSet;  // Import HashSet class from the java.util package for creating a set to store unique row sums.\n",
    "import java.util.Set;      // Import Set interface from the java.util package for working with sets.\n",
    "\n",
    "public class ArrayUtils {\n",
    "    public static boolean isDiverse(int[][] arr2D) {\n",
    "        // Create a set to store unique row sums\n",
    "        Set<Integer> uniqueRowSums = new HashSet<>();\n",
    "        // Create a set to check for encountered row sums\n",
    "        Set<Integer> encounteredRowSums = new HashSet<>();\n",
    "\n",
    "        // Iterate through each row in the 2D array\n",
    "        for (int i = 0; i < arr2D.length; i++) {\n",
    "            int rowSum = 0; // Initialize the sum for the current row\n",
    "\n",
    "            // Calculate the sum of the current row\n",
    "            for (int j = 0; j < arr2D[i].length; j++) {\n",
    "                rowSum += arr2D[i][j];\n",
    "            }\n",
    "\n",
    "            // If we have already encountered this row sum, it's not diverse; return false\n",
    "            if (encounteredRowSums.contains(rowSum)) {\n",
    "                return false;\n",
    "            }\n",
    "\n",
    "            // Add the row sum to both sets\n",
    "            encounteredRowSums.add(rowSum);\n",
    "            uniqueRowSums.add(rowSum);\n",
    "        }\n",
    "\n",
    "        // If all row sums are unique, return true\n",
    "        return true;\n",
    "    }\n",
    "\n",
    "    public static void main(String[] args) {\n",
    "        int[][] mat1 = {\n",
    "            {1, 3, 2, 7, 3},\n",
    "            {10, 10, 4, 6, 2},\n",
    "            {5, 3, 5, 9, 6},\n",
    "            {7, 6, 4, 2, 1}\n",
    "        };\n",
    "\n",
    "        int[][] mat2 = {\n",
    "            {1, 1, 5, 3, 4},\n",
    "            {12, 7, 6, 1, 9},\n",
    "            {8, 11, 10, 2, 5},\n",
    "            {3, 2, 3, 0, 6}\n",
    "        };\n",
    "\n",
    "        boolean result1 = isDiverse(mat1);\n",
    "        boolean result2 = isDiverse(mat2);\n",
    "\n",
    "        System.out.println(\"mat1 is diverse: \" + result1); // Should print true\n",
    "        System.out.println(\"mat2 is diverse: \" + result2); // Should print false\n",
    "    }\n",
    "}\n",
    "\n",
    "ArrayUtils.main(null);"
   ]
  },
  {
   "cell_type": "markdown",
   "metadata": {},
   "source": [
    "# Scoring Guidelines\n",
    "\n",
    "<img width=\"700\" alt=\"Screenshot 2023-09-20 at 10 55 52 PM\" src=\"https://github.com/AniCricKet/musical-guacamole/assets/91163802/8a7f198f-2b16-45a7-81bf-59d8704b7de7\">\n",
    "\n",
    "\n",
    "# Special Cases\n",
    "\n",
    "1. Changing or Adding Data:\n",
    "To change or add data to an array, you need to access the specific index where you want to make the change. Here's an example of how to change the value at a particular index:"
   ]
  },
  {
   "cell_type": "code",
   "execution_count": null,
   "metadata": {},
   "outputs": [],
   "source": [
    "int[] myArray = {1, 2, 3, 4, 5};\n",
    "myArray[2] = 6; // Change the value at index 2 to 6"
   ]
  },
  {
   "cell_type": "markdown",
   "metadata": {},
   "source": [
    "ArrayLists are more flexible when it comes to adding or changing data because they can dynamically resize. To change or add data to an ArrayList, you can use methods like set(index, element) to change data at a specific index and add(element) to add data to the end of the ArrayList:"
   ]
  },
  {
   "cell_type": "code",
   "execution_count": null,
   "metadata": {},
   "outputs": [],
   "source": [
    "ArrayList<Integer> myList = new ArrayList<>();\n",
    "myList.add(1);\n",
    "myList.add(2);\n",
    "myList.set(1, 3); // Change the element at index 1 to 3\n",
    "myList.add(4);    // Add 4 to the end of the ArrayList"
   ]
  },
  {
   "cell_type": "markdown",
   "metadata": {},
   "source": [
    "2. Displaying Array/Array List\n",
    "\n",
    "To display an array or ArrayList by columns, you can use nested loops to iterate through the elements and print them in the desired format. Here's an example for both arrays and ArrayLists of sorting by vertical columns."
   ]
  },
  {
   "cell_type": "code",
   "execution_count": null,
   "metadata": {},
   "outputs": [],
   "source": [
    "int[][] twoDArray = {{1, 2, 3}, {4, 5, 6}};\n",
    "for (int i = 0; i < twoDArray[0].length; i++) {\n",
    "    for (int j = 0; j < twoDArray.length; j++) {\n",
    "        System.out.print(twoDArray[j][i] + \" \"); // Print each element followed by a space\n",
    "    }\n",
    "    System.out.println(); // Move to the next line after printing a column\n",
    "}\n",
    "\n",
    "ArrayList<ArrayList<Integer>> listOfLists = new ArrayList<>();\n",
    "// Populate listOfLists with ArrayLists of integers\n",
    "for (ArrayList<Integer> innerList : listOfLists) {\n",
    "    for (Integer element : innerList) {\n",
    "        System.out.print(element + \" \"); // Print each element followed by a space\n",
    "    }\n",
    "    System.out.println(); // Move to the next line after printing a row\n",
    "}"
   ]
  },
  {
   "cell_type": "markdown",
   "metadata": {},
   "source": [
    "To display as rows horizontally, you can iterate through the elements and print them in a single line with appropriate spacing or delimiter."
   ]
  },
  {
   "cell_type": "code",
   "execution_count": null,
   "metadata": {},
   "outputs": [],
   "source": [
    "int[] myArray = {1, 2, 3, 4, 5};\n",
    "for (int element : myArray) {\n",
    "    System.out.print(element + \" \"); // Print each element followed by a space\n",
    "}\n",
    "\n",
    "ArrayList<Integer> myList = new ArrayList<>();\n",
    "myList.add(1);\n",
    "myList.add(2);\n",
    "myList.add(3);\n",
    "for (Integer element : myList) {\n",
    "    System.out.print(element + \" \"); // Print each element followed by a space\n",
    "}"
   ]
  },
  {
   "cell_type": "markdown",
   "metadata": {},
   "source": [
    "3. Display Content Backwards\n",
    "\n",
    "To display the content of an array or ArrayList backward, you can iterate through the elements in reverse order and print them:"
   ]
  },
  {
   "cell_type": "code",
   "execution_count": null,
   "metadata": {},
   "outputs": [],
   "source": [
    "int[] myArray = {1, 2, 3, 4, 5};\n",
    "for (int i = myArray.length - 1; i >= 0; i--) {\n",
    "    System.out.print(myArray[i] + \" \"); // Print each element in reverse order followed by a space\n",
    "}\n",
    "\n",
    "ArrayList<Integer> myList = new ArrayList<>();\n",
    "myList.add(1);\n",
    "myList.add(2);\n",
    "myList.add(3);\n",
    "for (int i = myList.size() - 1; i >= 0; i--) {\n",
    "    System.out.print(myList.get(i) + \" \"); // Print each element in reverse order followed by a space\n",
    "}\n"
   ]
  }
 ],
 "metadata": {
  "kernelspec": {
   "display_name": "Java",
   "language": "java",
   "name": "java"
  },
  "language_info": {
   "codemirror_mode": "java",
   "file_extension": ".jshell",
   "mimetype": "text/x-java-source",
   "name": "java",
   "pygments_lexer": "java",
   "version": "17.0.5+9-LTS-191"
  },
  "orig_nbformat": 4
 },
 "nbformat": 4,
 "nbformat_minor": 2
}
