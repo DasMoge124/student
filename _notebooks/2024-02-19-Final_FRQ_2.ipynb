{
 "cells": [
  {
   "cell_type": "markdown",
   "metadata": {},
   "source": [
    "---\n",
    "toc: true\n",
    "comments: true\n",
    "layout: post\n",
    "title: FRQ Question 2\n",
    "type: hacks\n",
    "courses: { csa: {week: 24}}\n",
    "---"
   ]
  },
  {
   "cell_type": "markdown",
   "metadata": {},
   "source": [
    "## FRQ 2\n",
    "Consider a guessing game in which a player tries to guess a hidden word. The hidden word contains only capital\n",
    "letters and has a length known to the player. A guess contains only capital letters and has the same length as the\n",
    "hidden word.\n",
    "After a guess is made, the player is given a hint that is based on a comparison between the hidden word and the\n",
    "guess. Each position in the hint contains a character that corresponds to the letter in the same position in the\n",
    "guess. The following rules determine the characters that appear in the hint.\n",
    "\n",
    "|If the letter in the guess is … |the corresponding character in the hint is|\n",
    "|----|----|\n",
    "|also in the same position in the hidden word,| the matching letter|\n",
    "|also in the hidden word, but in a different position,| \"+\"|\n",
    "|not in the hidden word,| \"*\"|\n",
    " \n",
    " The HiddenWord class will be used to represent the hidden word in the game. The hidden word is passed to\n",
    "the constructor. The class contains a method, getHint, that takes a guess and produces a hint.\n",
    "For example, suppose the variable puzzle is declared as follows.\n",
    "HiddenWord puzzle = new HiddenWord(\"HARPS\");\n",
    "The following table shows several guesses and the hints that would be produced.\n",
    "\n",
    "|Call to getHint| String returned|\n",
    "|----|----|\n",
    "|puzzle.getHint(\"AAAAA\")| \"+A+++\"|\n",
    "|puzzle.getHint(\"HELLO\")| \"H****\"|\n",
    "|puzzle.getHint(\"HEART\")| \"H*++*\"|\n",
    "|puzzle.getHint(\"HARMS\")| \"HAR*S\"|\n",
    "|puzzle.getHint(\"HARPS\")| \"HARPS\"|\n",
    "\n",
    "Write the complete HiddenWord class, including any necessary instance variables, its constructor, and the method, getHint, described above. You may assume that the length of the guess is the same as the length of the hidden word."
   ]
  },
  {
   "cell_type": "code",
   "execution_count": 4,
   "metadata": {},
   "outputs": [
    {
     "name": "stdout",
     "output_type": "stream",
     "text": [
      "+A+++\n",
      "H****\n",
      "H*++*\n",
      "HAR*S\n",
      "HARPS\n"
     ]
    }
   ],
   "source": [
    "public class HiddenWord{\n",
    "    private String word;\n",
    "    public HiddenWord(String Word){\n",
    "        this.word = Word;\n",
    "    }\n",
    "    public String getHint(String guess){\n",
    "        String result = \"\";\n",
    "        for (int i = 0; i < guess.length();i++){\n",
    "            if (guess.charAt(i) == word.charAt(i)){\n",
    "                result += guess.charAt(i);\n",
    "            }\n",
    "            else if (word.indexOf(guess.charAt(i)) != -1)\n",
    "            {\n",
    "                result += \"+\";\n",
    "            }\n",
    "            else\n",
    "            {\n",
    "                result += \"*\";\n",
    "            }\n",
    "        }\n",
    "        return result;\n",
    "    }\n",
    "    public static void Main(String[] args){\n",
    "        HiddenWord puzzle = new HiddenWord(\"HARPS\");\n",
    "\n",
    "        System.out.println(puzzle.getHint(\"AAAAA\"));\n",
    "        System.out.println(puzzle.getHint(\"HELLO\"));\n",
    "        System.out.println(puzzle.getHint(\"HEART\"));\n",
    "        System.out.println(puzzle.getHint(\"HARMS\"));\n",
    "        System.out.println(puzzle.getHint(\"HARPS\"));\n",
    "    }\n",
    "}\n",
    "HiddenWord.Main(null);"
   ]
  }
 ],
 "metadata": {
  "kernelspec": {
   "display_name": "Java",
   "language": "java",
   "name": "java"
  },
  "language_info": {
   "codemirror_mode": "java",
   "file_extension": ".jshell",
   "mimetype": "text/x-java-source",
   "name": "java",
   "pygments_lexer": "java",
   "version": "17.0.9+9-Ubuntu-122.04"
  }
 },
 "nbformat": 4,
 "nbformat_minor": 2
}
