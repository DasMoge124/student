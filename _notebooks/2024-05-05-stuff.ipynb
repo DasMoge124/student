{
 "cells": [
  {
   "cell_type": "code",
   "execution_count": 5,
   "metadata": {},
   "outputs": [
    {
     "name": "stdout",
     "output_type": "stream",
     "text": [
      "The sum of 5 add 8 is 13\n"
     ]
    }
   ],
   "source": [
    "public class addNums{\n",
    "    private int num1;\n",
    "    private int num2;\n",
    "    public addNums(int n1, int n2){\n",
    "        num1 = n1;\n",
    "        num2 = n2;\n",
    "    }\n",
    "    public int add(){\n",
    "        return num1 + num2;\n",
    "    }\n",
    "    public String toString(){\n",
    "        return \"The sum of \"+num1+\" add \" + num2 + \" is \"+add();\n",
    "    }\n",
    "}\n",
    "public class Main{\n",
    "    public static void main(String[] args){\n",
    "        addNums one = new addNums(5,8);\n",
    "        //one.add();\n",
    "        System.out.println(one);\n",
    "    }\n",
    "}\n",
    "Main.main(null);"
   ]
  },
  {
   "cell_type": "code",
   "execution_count": 7,
   "metadata": {},
   "outputs": [
    {
     "name": "stdout",
     "output_type": "stream",
     "text": [
      "0\n"
     ]
    }
   ],
   "source": [
    "public class Main{\n",
    "    public static void main(String[] args){\n",
    "        for (int i = 0; i<1; i=1){\n",
    "            System.out.println(i);\n",
    "        }\n",
    "    }\n",
    "}\n",
    "Main.main(null);"
   ]
  },
  {
   "cell_type": "code",
   "execution_count": 17,
   "metadata": {},
   "outputs": [
    {
     "name": "stdout",
     "output_type": "stream",
     "text": [
      "Semicolons Matter!\n",
      "Semicolons Matter!\n",
      "Semicolons Matter!\n",
      "Semicolons Matter!\n"
     ]
    }
   ],
   "source": [
    "for (int i=1;i<=10;i+=3)\n",
    "    System.out.println(\"Semicolons Matter!\");"
   ]
  },
  {
   "cell_type": "code",
   "execution_count": 18,
   "metadata": {},
   "outputs": [
    {
     "name": "stdout",
     "output_type": "stream",
     "text": [
      "1\n",
      "2\n",
      "3\n",
      "4\n",
      "5\n",
      "6\n",
      "7\n",
      "8\n"
     ]
    }
   ],
   "source": [
    "for (int i = 0; i<8;i++){ //Print out 9 times?\n",
    "    System.out.println(i+1);\n",
    "}"
   ]
  },
  {
   "cell_type": "code",
   "execution_count": 21,
   "metadata": {},
   "outputs": [
    {
     "ename": "CompilationException",
     "evalue": "",
     "output_type": "error",
     "traceback": [
      "\u001b[1m\u001b[30m|   \u001b[1m\u001b[30m        \u001b[0m\u001b[1m\u001b[30m\u001b[41mthis\u001b[0m\u001b[1m\u001b[30m.i = a;\u001b[0m",
      "\u001b[1m\u001b[31mnon-static variable this cannot be referenced from a static context\u001b[0m",
      ""
     ]
    }
   ],
   "source": []
  }
 ],
 "metadata": {
  "kernelspec": {
   "display_name": "Java",
   "language": "java",
   "name": "java"
  },
  "language_info": {
   "codemirror_mode": "java",
   "file_extension": ".jshell",
   "mimetype": "text/x-java-source",
   "name": "java",
   "pygments_lexer": "java",
   "version": "17.0.10+7-Ubuntu-122.04.1"
  }
 },
 "nbformat": 4,
 "nbformat_minor": 2
}
