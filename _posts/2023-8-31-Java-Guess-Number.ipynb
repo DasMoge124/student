{
 "cells": [
  {
   "cell_type": "markdown",
   "metadata": {},
   "source": [
    "---\n",
    "title: Guess a number\n",
    "comments: true\n",
    "hide: true\n",
    "layout: default\n",
    "description: A common way to become familiar with a language is to build a calculator.  This calculator shows off button with actions.\n",
    "categories: [C7.0]\n",
    "courses: { csse: {week: 2}, csp: {week: 2, categories: [2.C]}, csa: {week: 2} }\n",
    "type: tangibles\n",
    "---"
   ]
  },
  {
   "cell_type": "code",
   "execution_count": null,
   "metadata": {},
   "outputs": [],
   "source": [
    "import java.util.*;\n",
    "import java.lang.Math;\n",
    "public class NumberGuess{\n",
    "    public static void main(String[] args){\n",
    "        Random rand = new Random();\n",
    "        Integer maximum = 100000;\n",
    "        Integer number = rand.nextInt(maximum);\n",
    "        Integer cracked = 10;\n",
    "        Integer number_of_guesses = 0;\n",
    "        Scanner input = new Scanner(System.in);\n",
    "        boolean solved = false;\n",
    "        System.out.println(\"Guess a random number from 0 to 100000\");\n",
    "        while(!solved){\n",
    "            Integer userInput = input.nextInt();\n",
    "            if (userInput < number){\n",
    "                System.out.println(\"Smaller than the number\");\n",
    "                number_of_guesses++;\n",
    "            } else if(userInput > number){\n",
    "                System.out.println(\"Greater than the number\");\n",
    "                number_of_guesses++;\n",
    "            }\n",
    "            else{\n",
    "                System.out.println(\"Congratulations you win!\");\n",
    "                solved = true;\n",
    "            }\n",
    "        }\n",
    "        if (number_of_guesses > cracked){\n",
    "            System.out.println(\"You're bad! You guessed more than ten times!\");\n",
    "        } else{\n",
    "            System.out.println(\"You rock! Have a piece of java candy!\");\n",
    "        }\n",
    "\n",
    "    }\n",
    "}"
   ]
  }
 ],
 "metadata": {
  "language_info": {
   "name": "python"
  },
  "orig_nbformat": 4
 },
 "nbformat": 4,
 "nbformat_minor": 2
}
